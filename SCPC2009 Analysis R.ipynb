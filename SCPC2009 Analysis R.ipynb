{
 "cells": [
  {
   "cell_type": "markdown",
   "metadata": {},
   "source": [
    "# SCPC 2009 Mobile Payment Analysis Replication in R"
   ]
  },
  {
   "cell_type": "code",
   "execution_count": 15,
   "metadata": {
    "collapsed": false
   },
   "outputs": [],
   "source": [
    "library(foreign)\n",
    "library(memisc)"
   ]
  },
  {
   "cell_type": "code",
   "execution_count": 19,
   "metadata": {
    "collapsed": false
   },
   "outputs": [
    {
     "data": {
      "text/html": [
       "<table>\n",
       "<thead><tr><th scope=col>r_weight</th><th scope=col>pa051_a</th><th scope=col>pa051_b</th><th scope=col>pa027_a</th><th scope=col>pa027_b</th><th scope=col>pa027_c</th><th scope=col>pa027_d</th><th scope=col>pa027_e</th><th scope=col>pa026</th><th scope=col>age</th><th scope=col>⋯</th><th scope=col>edu_c</th><th scope=col>edu_pgs</th><th scope=col>inc_lt25</th><th scope=col>inc_2549</th><th scope=col>inc_5074</th><th scope=col>inc_7599</th><th scope=col>inc_100124</th><th scope=col>inc_125199</th><th scope=col>inc_gt200</th><th scope=col>white</th></tr></thead>\n",
       "<tbody>\n",
       "\t<tr><td>48.40744</td><td>2       </td><td>2       </td><td>2       </td><td>2       </td><td>2       </td><td>2       </td><td>2       </td><td>2       </td><td>56      </td><td>⋯       </td><td>0       </td><td>0       </td><td>1       </td><td>0       </td><td>0       </td><td>0       </td><td>0       </td><td>0       </td><td>0       </td><td>1       </td></tr>\n",
       "\t<tr><td>19.69351</td><td>2       </td><td>2       </td><td>2       </td><td>2       </td><td>2       </td><td>2       </td><td>2       </td><td>2       </td><td>64      </td><td>⋯       </td><td>0       </td><td>0       </td><td>0       </td><td>1       </td><td>0       </td><td>0       </td><td>0       </td><td>0       </td><td>0       </td><td>1       </td></tr>\n",
       "\t<tr><td>27.52127</td><td>2       </td><td>2       </td><td>1       </td><td>1       </td><td>2       </td><td>1       </td><td>2       </td><td>1       </td><td>70      </td><td>⋯       </td><td>0       </td><td>0       </td><td>0       </td><td>1       </td><td>0       </td><td>0       </td><td>0       </td><td>0       </td><td>0       </td><td>1       </td></tr>\n",
       "\t<tr><td>21.77132</td><td>2       </td><td>2       </td><td>2       </td><td>2       </td><td>2       </td><td>2       </td><td>2       </td><td>2       </td><td>63      </td><td>⋯       </td><td>0       </td><td>0       </td><td>0       </td><td>0       </td><td>0       </td><td>0       </td><td>1       </td><td>0       </td><td>0       </td><td>1       </td></tr>\n",
       "\t<tr><td>12.00401</td><td>2       </td><td>2       </td><td>2       </td><td>2       </td><td>2       </td><td>2       </td><td>2       </td><td>2       </td><td>52      </td><td>⋯       </td><td>0       </td><td>1       </td><td>0       </td><td>0       </td><td>0       </td><td>1       </td><td>0       </td><td>0       </td><td>0       </td><td>1       </td></tr>\n",
       "\t<tr><td>15.07930</td><td>2       </td><td>2       </td><td>2       </td><td>2       </td><td>2       </td><td>1       </td><td>2       </td><td>2       </td><td>59      </td><td>⋯       </td><td>0       </td><td>1       </td><td>0       </td><td>0       </td><td>0       </td><td>0       </td><td>0       </td><td>0       </td><td>1       </td><td>1       </td></tr>\n",
       "</tbody>\n",
       "</table>\n"
      ],
      "text/latex": [
       "\\begin{tabular}{r|lllllllllllllllllllllll}\n",
       " r\\_weight & pa051\\_a & pa051\\_b & pa027\\_a & pa027\\_b & pa027\\_c & pa027\\_d & pa027\\_e & pa026 & age & ⋯ & edu\\_c & edu\\_pgs & inc\\_lt25 & inc\\_2549 & inc\\_5074 & inc\\_7599 & inc\\_100124 & inc\\_125199 & inc\\_gt200 & white\\\\\n",
       "\\hline\n",
       "\t 48.40744 & 2        & 2        & 2        & 2        & 2        & 2        & 2        & 2        & 56       & ⋯        & 0        & 0        & 1        & 0        & 0        & 0        & 0        & 0        & 0        & 1       \\\\\n",
       "\t 19.69351 & 2        & 2        & 2        & 2        & 2        & 2        & 2        & 2        & 64       & ⋯        & 0        & 0        & 0        & 1        & 0        & 0        & 0        & 0        & 0        & 1       \\\\\n",
       "\t 27.52127 & 2        & 2        & 1        & 1        & 2        & 1        & 2        & 1        & 70       & ⋯        & 0        & 0        & 0        & 1        & 0        & 0        & 0        & 0        & 0        & 1       \\\\\n",
       "\t 21.77132 & 2        & 2        & 2        & 2        & 2        & 2        & 2        & 2        & 63       & ⋯        & 0        & 0        & 0        & 0        & 0        & 0        & 1        & 0        & 0        & 1       \\\\\n",
       "\t 12.00401 & 2        & 2        & 2        & 2        & 2        & 2        & 2        & 2        & 52       & ⋯        & 0        & 1        & 0        & 0        & 0        & 1        & 0        & 0        & 0        & 1       \\\\\n",
       "\t 15.07930 & 2        & 2        & 2        & 2        & 2        & 1        & 2        & 2        & 59       & ⋯        & 0        & 1        & 0        & 0        & 0        & 0        & 0        & 0        & 1        & 1       \\\\\n",
       "\\end{tabular}\n"
      ],
      "text/markdown": [
       "\n",
       "r_weight | pa051_a | pa051_b | pa027_a | pa027_b | pa027_c | pa027_d | pa027_e | pa026 | age | ⋯ | edu_c | edu_pgs | inc_lt25 | inc_2549 | inc_5074 | inc_7599 | inc_100124 | inc_125199 | inc_gt200 | white | \n",
       "|---|---|---|---|---|---|\n",
       "| 48.40744 | 2        | 2        | 2        | 2        | 2        | 2        | 2        | 2        | 56       | ⋯        | 0        | 0        | 1        | 0        | 0        | 0        | 0        | 0        | 0        | 1        | \n",
       "| 19.69351 | 2        | 2        | 2        | 2        | 2        | 2        | 2        | 2        | 64       | ⋯        | 0        | 0        | 0        | 1        | 0        | 0        | 0        | 0        | 0        | 1        | \n",
       "| 27.52127 | 2        | 2        | 1        | 1        | 2        | 1        | 2        | 1        | 70       | ⋯        | 0        | 0        | 0        | 1        | 0        | 0        | 0        | 0        | 0        | 1        | \n",
       "| 21.77132 | 2        | 2        | 2        | 2        | 2        | 2        | 2        | 2        | 63       | ⋯        | 0        | 0        | 0        | 0        | 0        | 0        | 1        | 0        | 0        | 1        | \n",
       "| 12.00401 | 2        | 2        | 2        | 2        | 2        | 2        | 2        | 2        | 52       | ⋯        | 0        | 1        | 0        | 0        | 0        | 1        | 0        | 0        | 0        | 1        | \n",
       "| 15.07930 | 2        | 2        | 2        | 2        | 2        | 1        | 2        | 2        | 59       | ⋯        | 0        | 1        | 0        | 0        | 0        | 0        | 0        | 0        | 1        | 1        | \n",
       "\n",
       "\n"
      ],
      "text/plain": [
       "  r_weight pa051_a pa051_b pa027_a pa027_b pa027_c pa027_d pa027_e pa026 age ⋯\n",
       "1 48.40744 2       2       2       2       2       2       2       2     56  ⋯\n",
       "2 19.69351 2       2       2       2       2       2       2       2     64  ⋯\n",
       "3 27.52127 2       2       1       1       2       1       2       1     70  ⋯\n",
       "4 21.77132 2       2       2       2       2       2       2       2     63  ⋯\n",
       "5 12.00401 2       2       2       2       2       2       2       2     52  ⋯\n",
       "6 15.07930 2       2       2       2       2       1       2       2     59  ⋯\n",
       "  edu_c edu_pgs inc_lt25 inc_2549 inc_5074 inc_7599 inc_100124 inc_125199\n",
       "1 0     0       1        0        0        0        0          0         \n",
       "2 0     0       0        1        0        0        0          0         \n",
       "3 0     0       0        1        0        0        0          0         \n",
       "4 0     0       0        0        0        0        1          0         \n",
       "5 0     1       0        0        0        1        0          0         \n",
       "6 0     1       0        0        0        0        0          0         \n",
       "  inc_gt200 white\n",
       "1 0         1    \n",
       "2 0         1    \n",
       "3 0         1    \n",
       "4 0         1    \n",
       "5 0         1    \n",
       "6 1         1    "
      ]
     },
     "metadata": {},
     "output_type": "display_data"
    },
    {
     "name": "stdout",
     "output_type": "stream",
     "text": [
      "'data.frame':\t2173 obs. of  23 variables:\n",
      " $ r_weight  : num  48.4 19.7 27.5 21.8 12 ...\n",
      " $ pa051_a   : int  2 2 2 2 2 2 2 NA 2 2 ...\n",
      " $ pa051_b   : int  2 2 2 2 2 2 2 NA 2 2 ...\n",
      " $ pa027_a   : int  2 2 1 2 2 2 2 2 2 2 ...\n",
      " $ pa027_b   : int  2 2 1 2 2 2 2 2 2 2 ...\n",
      " $ pa027_c   : int  2 2 2 2 2 2 2 2 2 2 ...\n",
      " $ pa027_d   : int  2 2 1 2 2 1 2 2 2 2 ...\n",
      " $ pa027_e   : int  2 2 2 2 2 2 2 2 2 2 ...\n",
      " $ pa026     : int  2 2 1 2 2 2 2 NA 2 1 ...\n",
      " $ age       : int  56 64 70 63 52 59 69 75 62 83 ...\n",
      " $ edu_lhs   : int  0 0 0 0 0 0 0 0 0 0 ...\n",
      " $ edu_hs    : int  1 0 0 0 0 0 0 1 0 0 ...\n",
      " $ edu_sc    : int  0 1 1 1 0 0 1 0 1 1 ...\n",
      " $ edu_c     : int  0 0 0 0 0 0 0 0 0 0 ...\n",
      " $ edu_pgs   : int  0 0 0 0 1 1 0 0 0 0 ...\n",
      " $ inc_lt25  : int  1 0 0 0 0 0 0 0 1 0 ...\n",
      " $ inc_2549  : int  0 1 1 0 0 0 1 1 0 1 ...\n",
      " $ inc_5074  : int  0 0 0 0 0 0 0 0 0 0 ...\n",
      " $ inc_7599  : int  0 0 0 0 1 0 0 0 0 0 ...\n",
      " $ inc_100124: int  0 0 0 1 0 0 0 0 0 0 ...\n",
      " $ inc_125199: int  0 0 0 0 0 0 0 0 0 0 ...\n",
      " $ inc_gt200 : int  0 0 0 0 0 1 0 0 0 0 ...\n",
      " $ white     : int  1 1 1 1 1 1 0 1 1 1 ...\n"
     ]
    }
   ],
   "source": [
    "scpc2009 <- read.dta('SCPC2009.dta')\n",
    "scpc2009 <- scpc2009[,c('r_weight','pa051_a',\n",
    "                        'pa051_b','pa027_a',\n",
    "                        'pa027_b','pa027_c',\n",
    "                        'pa027_d','pa027_e',\n",
    "                        'pa026','age','edu_lhs',\n",
    "                        'edu_hs','edu_sc',\n",
    "                        'edu_c','edu_pgs',\n",
    "                        'inc_lt25','inc_2549',\n",
    "                        'inc_5074','inc_7599',\n",
    "                        'inc_100124','inc_125199',\n",
    "                        'inc_gt200','white')]\n",
    "head(scpc2009)\n",
    "str(scpc2009)"
   ]
  },
  {
   "cell_type": "markdown",
   "metadata": {},
   "source": [
    "# MOBILE PAYMENTS VARIABLES - mpay"
   ]
  },
  {
   "cell_type": "code",
   "execution_count": 20,
   "metadata": {
    "collapsed": false
   },
   "outputs": [
    {
     "data": {
      "text/plain": [
       "   Min. 1st Qu.  Median    Mean 3rd Qu.    Max.    NA's \n",
       "0.00000 0.00000 0.00000 0.02482 0.00000 2.00000     199 "
      ]
     },
     "metadata": {},
     "output_type": "display_data"
    }
   ],
   "source": [
    "scpc2009$pa051_a[scpc2009$pa051_a==2] <- 0\n",
    "scpc2009$pa051_b[scpc2009$pa051_b==2] <- 0\n",
    "scpc2009$mpay <- scpc2009$pa051_a + scpc2009$pa051_b\n",
    "summary(scpc2009$mpay)"
   ]
  },
  {
   "cell_type": "code",
   "execution_count": 21,
   "metadata": {
    "collapsed": false
   },
   "outputs": [
    {
     "data": {
      "text/plain": [
       "\n",
       "   0    1 \n",
       "1929   45 "
      ]
     },
     "metadata": {},
     "output_type": "display_data"
    }
   ],
   "source": [
    "scpc2009$mpay[scpc2009$mpay==2] <- 1\n",
    "table(scpc2009$mpay)"
   ]
  },
  {
   "cell_type": "markdown",
   "metadata": {},
   "source": [
    "# CONTACTLESS PAYMENT VARIABLE - cpay"
   ]
  },
  {
   "cell_type": "code",
   "execution_count": 22,
   "metadata": {
    "collapsed": false
   },
   "outputs": [
    {
     "data": {
      "text/plain": [
       "   Min. 1st Qu.  Median    Mean 3rd Qu.    Max.    NA's \n",
       " 0.0000  0.0000  0.0000  0.3029  0.0000  5.0000      17 "
      ]
     },
     "metadata": {},
     "output_type": "display_data"
    }
   ],
   "source": [
    "scpc2009$pa027_a[scpc2009$pa027_a==2] <- 0\n",
    "scpc2009$pa027_b[scpc2009$pa027_b==2] <- 0\n",
    "scpc2009$pa027_c[scpc2009$pa027_c==2] <- 0\n",
    "scpc2009$pa027_d[scpc2009$pa027_d==2] <- 0\n",
    "scpc2009$pa027_e[scpc2009$pa027_e==2] <- 0\n",
    "scpc2009$cpay <- scpc2009$pa027_a + scpc2009$pa027_b + \n",
    "    scpc2009$pa027_c + scpc2009$pa027_d + scpc2009$pa027_e\n",
    "summary(scpc2009$cpay)"
   ]
  },
  {
   "cell_type": "code",
   "execution_count": 23,
   "metadata": {
    "collapsed": false
   },
   "outputs": [
    {
     "data": {
      "text/plain": [
       "   Min. 1st Qu.  Median    Mean 3rd Qu.    Max.    NA's \n",
       " 0.0000  0.0000  0.0000  0.2277  0.0000  1.0000      17 "
      ]
     },
     "metadata": {},
     "output_type": "display_data"
    },
    {
     "data": {
      "text/plain": [
       "\n",
       "   0    1 \n",
       "1665  491 "
      ]
     },
     "metadata": {},
     "output_type": "display_data"
    }
   ],
   "source": [
    "scpc2009$cpay[scpc2009$cpay >= 1] <- 1\n",
    "summary(scpc2009$cpay)\n",
    "table(scpc2009$cpay)"
   ]
  },
  {
   "cell_type": "markdown",
   "metadata": {},
   "source": [
    "# MOBILE BANKING VARIABLE - mbank"
   ]
  },
  {
   "cell_type": "code",
   "execution_count": 24,
   "metadata": {
    "collapsed": false
   },
   "outputs": [
    {
     "data": {
      "text/plain": [
       "   Min. 1st Qu.  Median    Mean 3rd Qu.    Max.    NA's \n",
       "0.00000 0.00000 0.00000 0.09746 0.00000 1.00000     285 "
      ]
     },
     "metadata": {},
     "output_type": "display_data"
    },
    {
     "data": {
      "text/plain": [
       "\n",
       "   0    1 \n",
       "1704  184 "
      ]
     },
     "metadata": {},
     "output_type": "display_data"
    }
   ],
   "source": [
    "scpc2009$pa026[scpc2009$pa026==2] <- 0\n",
    "scpc2009$mbank <- scpc2009$pa026\n",
    "summary(scpc2009$mbank)\n",
    "table(scpc2009$mbank)"
   ]
  },
  {
   "cell_type": "markdown",
   "metadata": {},
   "source": [
    "# AGE VARIABLE - age"
   ]
  },
  {
   "cell_type": "code",
   "execution_count": 25,
   "metadata": {
    "collapsed": false
   },
   "outputs": [
    {
     "data": {
      "text/plain": [
       "   Min. 1st Qu.  Median    Mean 3rd Qu.    Max.    NA's \n",
       "  18.00   41.00   52.00   50.89   61.00   90.00       1 "
      ]
     },
     "metadata": {},
     "output_type": "display_data"
    },
    {
     "data": {
      "image/png": "[encoded data removed]",
      "text/plain": [
       "Plot with title “Histogram of scpc2009$age”"
      ]
     },
     "metadata": {},
     "output_type": "display_data"
    }
   ],
   "source": [
    "summary(scpc2009$age)\n",
    "hist(scpc2009$age)"
   ]
  },
  {
   "cell_type": "markdown",
   "metadata": {},
   "source": [
    "# EDUCATION VARIABLE - edlevel"
   ]
  },
  {
   "cell_type": "code",
   "execution_count": 26,
   "metadata": {
    "collapsed": false
   },
   "outputs": [
    {
     "data": {
      "text/plain": [
       "   Min. 1st Qu.  Median    Mean 3rd Qu.    Max. \n",
       "0.00000 0.00000 0.00000 0.01887 0.00000 1.00000 "
      ]
     },
     "metadata": {},
     "output_type": "display_data"
    },
    {
     "data": {
      "text/plain": [
       "\n",
       "   0    1 \n",
       "2132   41 "
      ]
     },
     "metadata": {},
     "output_type": "display_data"
    }
   ],
   "source": [
    "scpc2009$edu_lhs[scpc2009$edu_lhs==2] <- 0\n",
    "summary(scpc2009$edu_lhs)\n",
    "table(scpc2009$edu_lhs)"
   ]
  },
  {
   "cell_type": "code",
   "execution_count": 27,
   "metadata": {
    "collapsed": false
   },
   "outputs": [
    {
     "data": {
      "text/plain": [
       "   Min. 1st Qu.  Median    Mean 3rd Qu.    Max. \n",
       " 0.0000  0.0000  0.0000  0.3046  0.0000  2.0000 "
      ]
     },
     "metadata": {},
     "output_type": "display_data"
    },
    {
     "data": {
      "text/plain": [
       "\n",
       "   0    2 \n",
       "1842  331 "
      ]
     },
     "metadata": {},
     "output_type": "display_data"
    }
   ],
   "source": [
    "scpc2009$edu_hs[scpc2009$edu_hs==2] <- 0\n",
    "scpc2009$edu_hs[scpc2009$edu_hs==1] <- 2\n",
    "summary(scpc2009$edu_hs)\n",
    "table(scpc2009$edu_hs)"
   ]
  },
  {
   "cell_type": "code",
   "execution_count": 28,
   "metadata": {
    "collapsed": false
   },
   "outputs": [
    {
     "data": {
      "text/plain": [
       "   Min. 1st Qu.  Median    Mean 3rd Qu.    Max. \n",
       "  0.000   0.000   0.000   1.075   3.000   3.000 "
      ]
     },
     "metadata": {},
     "output_type": "display_data"
    },
    {
     "data": {
      "text/plain": [
       "\n",
       "   0    3 \n",
       "1394  779 "
      ]
     },
     "metadata": {},
     "output_type": "display_data"
    }
   ],
   "source": [
    "scpc2009$edu_sc[scpc2009$edu_sc==2] <- 0\n",
    "scpc2009$edu_sc[scpc2009$edu_sc==1] <- 3\n",
    "summary(scpc2009$edu_sc)\n",
    "table(scpc2009$edu_sc)"
   ]
  },
  {
   "cell_type": "code",
   "execution_count": 29,
   "metadata": {
    "collapsed": false
   },
   "outputs": [
    {
     "data": {
      "text/plain": [
       "   Min. 1st Qu.  Median    Mean 3rd Qu.    Max. \n",
       "  0.000   0.000   0.000   1.051   4.000   4.000 "
      ]
     },
     "metadata": {},
     "output_type": "display_data"
    },
    {
     "data": {
      "text/plain": [
       "\n",
       "   0    4 \n",
       "1602  571 "
      ]
     },
     "metadata": {},
     "output_type": "display_data"
    }
   ],
   "source": [
    "scpc2009$edu_c[scpc2009$edu_c==2] <- 0\n",
    "scpc2009$edu_c[scpc2009$edu_c==1] <- 4\n",
    "summary(scpc2009$edu_c)\n",
    "table(scpc2009$edu_c)"
   ]
  },
  {
   "cell_type": "code",
   "execution_count": 30,
   "metadata": {
    "collapsed": false
   },
   "outputs": [
    {
     "data": {
      "text/plain": [
       "   Min. 1st Qu.  Median    Mean 3rd Qu.    Max. \n",
       "  0.000   0.000   0.000   1.038   0.000   5.000 "
      ]
     },
     "metadata": {},
     "output_type": "display_data"
    },
    {
     "data": {
      "text/plain": [
       "\n",
       "   0    5 \n",
       "1722  451 "
      ]
     },
     "metadata": {},
     "output_type": "display_data"
    }
   ],
   "source": [
    "scpc2009$edu_pgs[scpc2009$edu_pgs==2] <- 0\n",
    "scpc2009$edu_pgs[scpc2009$edu_pgs==1] <- 5\n",
    "summary(scpc2009$edu_pgs)\n",
    "table(scpc2009$edu_pgs)"
   ]
  },
  {
   "cell_type": "code",
   "execution_count": 31,
   "metadata": {
    "collapsed": false
   },
   "outputs": [
    {
     "data": {
      "text/plain": [
       "   Min. 1st Qu.  Median    Mean 3rd Qu.    Max. \n",
       "  1.000   3.000   3.000   3.488   4.000   5.000 "
      ]
     },
     "metadata": {},
     "output_type": "display_data"
    },
    {
     "data": {
      "text/plain": [
       "\n",
       "  1   2   3   4   5 \n",
       " 41 331 779 571 451 "
      ]
     },
     "metadata": {},
     "output_type": "display_data"
    }
   ],
   "source": [
    "scpc2009$edlevel <- scpc2009$edu_lhs + scpc2009$edu_hs +\n",
    "    scpc2009$edu_sc + scpc2009$edu_c + scpc2009$edu_pgs\n",
    "summary(scpc2009$edlevel)\n",
    "table(scpc2009$edlevel)"
   ]
  },
  {
   "cell_type": "markdown",
   "metadata": {},
   "source": [
    "# INCOME LEVEL VARIABLE - income"
   ]
  },
  {
   "cell_type": "code",
   "execution_count": 32,
   "metadata": {
    "collapsed": false
   },
   "outputs": [
    {
     "data": {
      "text/plain": [
       "   Min. 1st Qu.  Median    Mean 3rd Qu.    Max.    NA's \n",
       " 0.0000  0.0000  0.0000  0.1352  0.0000  1.0000       6 "
      ]
     },
     "metadata": {},
     "output_type": "display_data"
    },
    {
     "data": {
      "text/plain": [
       "\n",
       "   0    1 \n",
       "1874  293 "
      ]
     },
     "metadata": {},
     "output_type": "display_data"
    }
   ],
   "source": [
    "scpc2009$inc_lt25[scpc2009$inc_lt25==2] <- 0\n",
    "scpc2009$inc_lt25[scpc2009$inc_lt25==1] <- 1\n",
    "summary(scpc2009$inc_lt25)\n",
    "table(scpc2009$inc_lt25)"
   ]
  },
  {
   "cell_type": "code",
   "execution_count": 33,
   "metadata": {
    "collapsed": false
   },
   "outputs": [
    {
     "data": {
      "text/plain": [
       "   Min. 1st Qu.  Median    Mean 3rd Qu.    Max.    NA's \n",
       " 0.0000  0.0000  0.0000  0.5159  2.0000  2.0000       6 "
      ]
     },
     "metadata": {},
     "output_type": "display_data"
    },
    {
     "data": {
      "text/plain": [
       "\n",
       "   0    2 \n",
       "1608  559 "
      ]
     },
     "metadata": {},
     "output_type": "display_data"
    }
   ],
   "source": [
    "scpc2009$inc_2549[scpc2009$inc_2549==2] <- 0\n",
    "scpc2009$inc_2549[scpc2009$inc_2549==1] <- 2\n",
    "summary(scpc2009$inc_2549)\n",
    "table(scpc2009$inc_2549)"
   ]
  },
  {
   "cell_type": "code",
   "execution_count": 34,
   "metadata": {
    "collapsed": false
   },
   "outputs": [
    {
     "data": {
      "text/plain": [
       "   Min. 1st Qu.  Median    Mean 3rd Qu.    Max.    NA's \n",
       " 0.0000  0.0000  0.0000  0.7531  3.0000  3.0000       6 "
      ]
     },
     "metadata": {},
     "output_type": "display_data"
    },
    {
     "data": {
      "text/plain": [
       "\n",
       "   0    3 \n",
       "1623  544 "
      ]
     },
     "metadata": {},
     "output_type": "display_data"
    }
   ],
   "source": [
    "scpc2009$inc_5074[scpc2009$inc_5074==2] <- 0\n",
    "scpc2009$inc_5074[scpc2009$inc_5074==1] <- 3\n",
    "summary(scpc2009$inc_5074)\n",
    "table(scpc2009$inc_5074)"
   ]
  },
  {
   "cell_type": "code",
   "execution_count": 35,
   "metadata": {
    "collapsed": false
   },
   "outputs": [
    {
     "data": {
      "text/plain": [
       "   Min. 1st Qu.  Median    Mean 3rd Qu.    Max.    NA's \n",
       " 0.0000  0.0000  0.0000  0.6294  0.0000  4.0000       6 "
      ]
     },
     "metadata": {},
     "output_type": "display_data"
    },
    {
     "data": {
      "text/plain": [
       "\n",
       "   0    4 \n",
       "1826  341 "
      ]
     },
     "metadata": {},
     "output_type": "display_data"
    }
   ],
   "source": [
    "scpc2009$inc_7599[scpc2009$inc_7599==2] <- 0\n",
    "scpc2009$inc_7599[scpc2009$inc_7599==1] <- 4\n",
    "summary(scpc2009$inc_7599)\n",
    "table(scpc2009$inc_7599)"
   ]
  },
  {
   "cell_type": "code",
   "execution_count": 36,
   "metadata": {
    "collapsed": false
   },
   "outputs": [
    {
     "data": {
      "text/plain": [
       "   Min. 1st Qu.  Median    Mean 3rd Qu.    Max.    NA's \n",
       " 0.0000  0.0000  0.0000  0.3646  0.0000  5.0000       6 "
      ]
     },
     "metadata": {},
     "output_type": "display_data"
    },
    {
     "data": {
      "text/plain": [
       "\n",
       "   0    5 \n",
       "2009  158 "
      ]
     },
     "metadata": {},
     "output_type": "display_data"
    }
   ],
   "source": [
    "scpc2009$inc_100124[scpc2009$inc_100124==2] <- 0\n",
    "scpc2009$inc_100124[scpc2009$inc_100124==1] <- 5\n",
    "summary(scpc2009$inc_100124)\n",
    "table(scpc2009$inc_100124)"
   ]
  },
  {
   "cell_type": "code",
   "execution_count": 37,
   "metadata": {
    "collapsed": false
   },
   "outputs": [
    {
     "data": {
      "text/plain": [
       "   Min. 1st Qu.  Median    Mean 3rd Qu.    Max.    NA's \n",
       " 0.0000  0.0000  0.0000  0.5122  0.0000  6.0000       6 "
      ]
     },
     "metadata": {},
     "output_type": "display_data"
    },
    {
     "data": {
      "text/plain": [
       "\n",
       "   0    6 \n",
       "1982  185 "
      ]
     },
     "metadata": {},
     "output_type": "display_data"
    }
   ],
   "source": [
    "scpc2009$inc_125199[scpc2009$inc_125199==2] <- 0\n",
    "scpc2009$inc_125199[scpc2009$inc_125199==1] <- 6\n",
    "summary(scpc2009$inc_125199)\n",
    "table(scpc2009$inc_125199)"
   ]
  },
  {
   "cell_type": "code",
   "execution_count": 38,
   "metadata": {
    "collapsed": false
   },
   "outputs": [
    {
     "data": {
      "text/plain": [
       "   Min. 1st Qu.  Median    Mean 3rd Qu.    Max.    NA's \n",
       "  0.000   0.000   0.000   0.281   0.000   7.000       6 "
      ]
     },
     "metadata": {},
     "output_type": "display_data"
    },
    {
     "data": {
      "text/plain": [
       "\n",
       "   0    7 \n",
       "2080   87 "
      ]
     },
     "metadata": {},
     "output_type": "display_data"
    }
   ],
   "source": [
    "scpc2009$inc_gt200[scpc2009$inc_gt200==2] <- 0\n",
    "scpc2009$inc_gt200[scpc2009$inc_gt200==1] <- 7\n",
    "summary(scpc2009$inc_gt200)\n",
    "table(scpc2009$inc_gt200)"
   ]
  },
  {
   "cell_type": "code",
   "execution_count": 39,
   "metadata": {
    "collapsed": false
   },
   "outputs": [
    {
     "data": {
      "text/plain": [
       "   Min. 1st Qu.  Median    Mean 3rd Qu.    Max.    NA's \n",
       "  1.000   2.000   3.000   3.192   4.000   7.000       6 "
      ]
     },
     "metadata": {},
     "output_type": "display_data"
    },
    {
     "data": {
      "text/plain": [
       "\n",
       "  1   2   3   4   5   6   7 \n",
       "293 559 544 341 158 185  87 "
      ]
     },
     "metadata": {},
     "output_type": "display_data"
    }
   ],
   "source": [
    "scpc2009$income <- scpc2009$inc_lt25 + scpc2009$inc_2549 +\n",
    "    scpc2009$inc_5074 + scpc2009$inc_7599 + scpc2009$inc_100124 +\n",
    "    scpc2009$inc_125199 + scpc2009$inc_gt200\n",
    "summary(scpc2009$income)\n",
    "table(scpc2009$income)"
   ]
  },
  {
   "cell_type": "markdown",
   "metadata": {},
   "source": [
    "# Race Dummy Variable for White - white"
   ]
  },
  {
   "cell_type": "code",
   "execution_count": 40,
   "metadata": {
    "collapsed": false
   },
   "outputs": [
    {
     "data": {
      "text/plain": [
       "   Min. 1st Qu.  Median    Mean 3rd Qu.    Max. \n",
       " 0.0000  1.0000  1.0000  0.8762  1.0000  1.0000 "
      ]
     },
     "metadata": {},
     "output_type": "display_data"
    },
    {
     "data": {
      "text/plain": [
       "\n",
       "   0    1 \n",
       " 269 1904 "
      ]
     },
     "metadata": {},
     "output_type": "display_data"
    }
   ],
   "source": [
    "scpc2009$white[scpc2009$white==2] <- 0\n",
    "summary(scpc2009$white)\n",
    "table(scpc2009$white)"
   ]
  },
  {
   "cell_type": "markdown",
   "metadata": {},
   "source": [
    "# New Dataframe with Coded Variables"
   ]
  },
  {
   "cell_type": "code",
   "execution_count": 41,
   "metadata": {
    "collapsed": false
   },
   "outputs": [
    {
     "name": "stdout",
     "output_type": "stream",
     "text": [
      "'data.frame':\t2173 obs. of  8 variables:\n",
      " $ r_weight: num  48.4 19.7 27.5 21.8 12 ...\n",
      " $ mpay    : num  0 0 0 0 0 0 0 NA 0 0 ...\n",
      " $ cpay    : num  0 0 1 0 0 1 0 0 0 0 ...\n",
      " $ mbank   : num  0 0 1 0 0 0 0 NA 0 1 ...\n",
      " $ age     : int  56 64 70 63 52 59 69 75 62 83 ...\n",
      " $ edlevel : num  2 3 3 3 5 5 3 2 3 3 ...\n",
      " $ income  : num  1 2 2 5 4 7 2 2 1 2 ...\n",
      " $ white   : num  1 1 1 1 1 1 0 1 1 1 ...\n"
     ]
    },
    {
     "data": {
      "text/html": [
       "<table>\n",
       "<thead><tr><th scope=col>r_weight</th><th scope=col>mpay</th><th scope=col>cpay</th><th scope=col>mbank</th><th scope=col>age</th><th scope=col>edlevel</th><th scope=col>income</th><th scope=col>white</th></tr></thead>\n",
       "<tbody>\n",
       "\t<tr><td>48.40744</td><td>0       </td><td>0       </td><td>0       </td><td>56      </td><td>2       </td><td>1       </td><td>1       </td></tr>\n",
       "\t<tr><td>19.69351</td><td>0       </td><td>0       </td><td>0       </td><td>64      </td><td>3       </td><td>2       </td><td>1       </td></tr>\n",
       "\t<tr><td>27.52127</td><td>0       </td><td>1       </td><td>1       </td><td>70      </td><td>3       </td><td>2       </td><td>1       </td></tr>\n",
       "\t<tr><td>21.77132</td><td>0       </td><td>0       </td><td>0       </td><td>63      </td><td>3       </td><td>5       </td><td>1       </td></tr>\n",
       "\t<tr><td>12.00401</td><td>0       </td><td>0       </td><td>0       </td><td>52      </td><td>5       </td><td>4       </td><td>1       </td></tr>\n",
       "\t<tr><td>15.07930</td><td>0       </td><td>1       </td><td>0       </td><td>59      </td><td>5       </td><td>7       </td><td>1       </td></tr>\n",
       "</tbody>\n",
       "</table>\n"
      ],
      "text/latex": [
       "\\begin{tabular}{r|llllllll}\n",
       " r\\_weight & mpay & cpay & mbank & age & edlevel & income & white\\\\\n",
       "\\hline\n",
       "\t 48.40744 & 0        & 0        & 0        & 56       & 2        & 1        & 1       \\\\\n",
       "\t 19.69351 & 0        & 0        & 0        & 64       & 3        & 2        & 1       \\\\\n",
       "\t 27.52127 & 0        & 1        & 1        & 70       & 3        & 2        & 1       \\\\\n",
       "\t 21.77132 & 0        & 0        & 0        & 63       & 3        & 5        & 1       \\\\\n",
       "\t 12.00401 & 0        & 0        & 0        & 52       & 5        & 4        & 1       \\\\\n",
       "\t 15.07930 & 0        & 1        & 0        & 59       & 5        & 7        & 1       \\\\\n",
       "\\end{tabular}\n"
      ],
      "text/markdown": [
       "\n",
       "r_weight | mpay | cpay | mbank | age | edlevel | income | white | \n",
       "|---|---|---|---|---|---|\n",
       "| 48.40744 | 0        | 0        | 0        | 56       | 2        | 1        | 1        | \n",
       "| 19.69351 | 0        | 0        | 0        | 64       | 3        | 2        | 1        | \n",
       "| 27.52127 | 0        | 1        | 1        | 70       | 3        | 2        | 1        | \n",
       "| 21.77132 | 0        | 0        | 0        | 63       | 3        | 5        | 1        | \n",
       "| 12.00401 | 0        | 0        | 0        | 52       | 5        | 4        | 1        | \n",
       "| 15.07930 | 0        | 1        | 0        | 59       | 5        | 7        | 1        | \n",
       "\n",
       "\n"
      ],
      "text/plain": [
       "  r_weight mpay cpay mbank age edlevel income white\n",
       "1 48.40744 0    0    0     56  2       1      1    \n",
       "2 19.69351 0    0    0     64  3       2      1    \n",
       "3 27.52127 0    1    1     70  3       2      1    \n",
       "4 21.77132 0    0    0     63  3       5      1    \n",
       "5 12.00401 0    0    0     52  5       4      1    \n",
       "6 15.07930 0    1    0     59  5       7      1    "
      ]
     },
     "metadata": {},
     "output_type": "display_data"
    },
    {
     "data": {
      "text/plain": [
       "    r_weight           mpay             cpay            mbank        \n",
       " Min.   : 10.19   Min.   :0.0000   Min.   :0.0000   Min.   :0.00000  \n",
       " 1st Qu.: 19.27   1st Qu.:0.0000   1st Qu.:0.0000   1st Qu.:0.00000  \n",
       " Median : 26.61   Median :0.0000   Median :0.0000   Median :0.00000  \n",
       " Mean   : 45.90   Mean   :0.0228   Mean   :0.2277   Mean   :0.09746  \n",
       " 3rd Qu.: 48.91   3rd Qu.:0.0000   3rd Qu.:0.0000   3rd Qu.:0.00000  \n",
       " Max.   :776.70   Max.   :1.0000   Max.   :1.0000   Max.   :1.00000  \n",
       "                  NA's   :199      NA's   :17       NA's   :285      \n",
       "      age           edlevel          income          white       \n",
       " Min.   :18.00   Min.   :1.000   Min.   :1.000   Min.   :0.0000  \n",
       " 1st Qu.:41.00   1st Qu.:3.000   1st Qu.:2.000   1st Qu.:1.0000  \n",
       " Median :52.00   Median :3.000   Median :3.000   Median :1.0000  \n",
       " Mean   :50.89   Mean   :3.488   Mean   :3.192   Mean   :0.8762  \n",
       " 3rd Qu.:61.00   3rd Qu.:4.000   3rd Qu.:4.000   3rd Qu.:1.0000  \n",
       " Max.   :90.00   Max.   :5.000   Max.   :7.000   Max.   :1.0000  \n",
       " NA's   :1                       NA's   :6                       "
      ]
     },
     "metadata": {},
     "output_type": "display_data"
    }
   ],
   "source": [
    "df <- scpc2009[,c('r_weight','mpay','cpay','mbank',\n",
    "                  'age','edlevel','income','white')]\n",
    "str(df)\n",
    "head(df)\n",
    "summary(df)"
   ]
  },
  {
   "cell_type": "markdown",
   "metadata": {},
   "source": [
    "# Logistic Regression Weighted"
   ]
  },
  {
   "cell_type": "code",
   "execution_count": 42,
   "metadata": {
    "collapsed": false
   },
   "outputs": [
    {
     "data": {
      "text/html": [
       "<table>\n",
       "<thead><tr><th scope=col>r_weight</th><th scope=col>mpay</th><th scope=col>cpay</th><th scope=col>mbank</th><th scope=col>age</th><th scope=col>edlevel</th><th scope=col>income</th><th scope=col>white</th></tr></thead>\n",
       "<tbody>\n",
       "\t<tr><td>48.40744</td><td>0       </td><td>0       </td><td>0       </td><td>56      </td><td>2       </td><td>1       </td><td>1       </td></tr>\n",
       "\t<tr><td>19.69351</td><td>0       </td><td>0       </td><td>0       </td><td>64      </td><td>3       </td><td>2       </td><td>1       </td></tr>\n",
       "\t<tr><td>27.52127</td><td>0       </td><td>1       </td><td>1       </td><td>70      </td><td>3       </td><td>2       </td><td>1       </td></tr>\n",
       "\t<tr><td>21.77132</td><td>0       </td><td>0       </td><td>0       </td><td>63      </td><td>3       </td><td>5       </td><td>1       </td></tr>\n",
       "\t<tr><td>12.00401</td><td>0       </td><td>0       </td><td>0       </td><td>52      </td><td>5       </td><td>4       </td><td>1       </td></tr>\n",
       "\t<tr><td>15.07930</td><td>0       </td><td>1       </td><td>0       </td><td>59      </td><td>5       </td><td>7       </td><td>1       </td></tr>\n",
       "</tbody>\n",
       "</table>\n"
      ],
      "text/latex": [
       "\\begin{tabular}{r|llllllll}\n",
       " r\\_weight & mpay & cpay & mbank & age & edlevel & income & white\\\\\n",
       "\\hline\n",
       "\t 48.40744 & 0        & 0        & 0        & 56       & 2        & 1        & 1       \\\\\n",
       "\t 19.69351 & 0        & 0        & 0        & 64       & 3        & 2        & 1       \\\\\n",
       "\t 27.52127 & 0        & 1        & 1        & 70       & 3        & 2        & 1       \\\\\n",
       "\t 21.77132 & 0        & 0        & 0        & 63       & 3        & 5        & 1       \\\\\n",
       "\t 12.00401 & 0        & 0        & 0        & 52       & 5        & 4        & 1       \\\\\n",
       "\t 15.07930 & 0        & 1        & 0        & 59       & 5        & 7        & 1       \\\\\n",
       "\\end{tabular}\n"
      ],
      "text/markdown": [
       "\n",
       "r_weight | mpay | cpay | mbank | age | edlevel | income | white | \n",
       "|---|---|---|---|---|---|\n",
       "| 48.40744 | 0        | 0        | 0        | 56       | 2        | 1        | 1        | \n",
       "| 19.69351 | 0        | 0        | 0        | 64       | 3        | 2        | 1        | \n",
       "| 27.52127 | 0        | 1        | 1        | 70       | 3        | 2        | 1        | \n",
       "| 21.77132 | 0        | 0        | 0        | 63       | 3        | 5        | 1        | \n",
       "| 12.00401 | 0        | 0        | 0        | 52       | 5        | 4        | 1        | \n",
       "| 15.07930 | 0        | 1        | 0        | 59       | 5        | 7        | 1        | \n",
       "\n",
       "\n"
      ],
      "text/plain": [
       "  r_weight mpay cpay mbank age edlevel income white\n",
       "1 48.40744 0    0    0     56  2       1      1    \n",
       "2 19.69351 0    0    0     64  3       2      1    \n",
       "3 27.52127 0    1    1     70  3       2      1    \n",
       "4 21.77132 0    0    0     63  3       5      1    \n",
       "5 12.00401 0    0    0     52  5       4      1    \n",
       "6 15.07930 0    1    0     59  5       7      1    "
      ]
     },
     "metadata": {},
     "output_type": "display_data"
    }
   ],
   "source": [
    "head(df)"
   ]
  },
  {
   "cell_type": "code",
   "execution_count": 10,
   "metadata": {
    "collapsed": false
   },
   "outputs": [
    {
     "data": {
      "text/html": [
       "<table>\n",
       "<thead><tr><th scope=col>X</th><th scope=col>prim_key</th><th scope=col>internetlocation</th><th scope=col>familyincome</th><th scope=col>birthmonth</th><th scope=col>birthday</th><th scope=col>birthyear</th><th scope=col>cellphone</th><th scope=col>fr001_a</th><th scope=col>fr001_b</th><th scope=col>⋯</th><th scope=col>csh_house_no_mon_t_y</th><th scope=col>csh_freq_no_mon_t_y</th><th scope=col>csh_total_no_mon_t_y</th><th scope=col>csh_month_no_mon_t_y</th><th scope=col>csh_amnt_no_mon_t_y</th><th scope=col>de016_ho</th><th scope=col>rating_acceptance</th><th scope=col>rating_cost</th><th scope=col>rating_convenience</th><th scope=col>rating_security</th></tr></thead>\n",
       "<tbody>\n",
       "\t<tr><td>0        </td><td>2011016:1</td><td>1        </td><td> 4       </td><td>12       </td><td>10       </td><td>52       </td><td>1        </td><td>5        </td><td>5        </td><td>⋯        </td><td>100      </td><td>2.000000 </td><td>130      </td><td>200.0000 </td><td>100      </td><td>  20     </td><td>2        </td><td>1        </td><td>3        </td><td>4        </td></tr>\n",
       "\t<tr><td>1        </td><td>2011018:1</td><td>1        </td><td>11       </td><td>12       </td><td>24       </td><td>44       </td><td>1        </td><td>5        </td><td>5        </td><td>⋯        </td><td> NA      </td><td>      NA </td><td> NA      </td><td>      NA </td><td> NA      </td><td>  NA     </td><td>3        </td><td>1        </td><td>2        </td><td>4        </td></tr>\n",
       "\t<tr><td>2        </td><td>2011018:2</td><td>1        </td><td>10       </td><td>11       </td><td>23       </td><td>38       </td><td>1        </td><td>2        </td><td>1        </td><td>⋯        </td><td>  3      </td><td>4.348214 </td><td> 37      </td><td>173.9286 </td><td> 40      </td><td>  NA     </td><td>4        </td><td>4        </td><td>4        </td><td>4        </td></tr>\n",
       "\t<tr><td>3        </td><td>2011041:1</td><td>2        </td><td>14       </td><td>11       </td><td>20       </td><td>45       </td><td>1        </td><td>3        </td><td>2        </td><td>⋯        </td><td>200      </td><td>2.000000 </td><td>260      </td><td>120.0000 </td><td> 60      </td><td> 400     </td><td>2        </td><td>4        </td><td>3        </td><td>1        </td></tr>\n",
       "\t<tr><td>4        </td><td>2011042:1</td><td>1        </td><td>14       </td><td> 4       </td><td> 8       </td><td>57       </td><td>1        </td><td>3        </td><td>2        </td><td>⋯        </td><td>250      </td><td>4.348214 </td><td>450      </td><td>869.6429 </td><td>200      </td><td> 100     </td><td>1        </td><td>3        </td><td>2        </td><td>4        </td></tr>\n",
       "\t<tr><td>5        </td><td>2011045:1</td><td>2        </td><td>14       </td><td> 6       </td><td>27       </td><td>50       </td><td>1        </td><td>3        </td><td>4        </td><td>⋯        </td><td>  0      </td><td>2.000000 </td><td> 50      </td><td>300.0000 </td><td>150      </td><td>3000     </td><td>1        </td><td>2        </td><td>3        </td><td>4        </td></tr>\n",
       "</tbody>\n",
       "</table>\n"
      ],
      "text/latex": [
       "\\begin{tabular}{r|llllllllllllllllllllllllllllllllllllllllllllllllllllllllllllllllllllllllllllllllllllllllllllllllllllllllllllllllllllllllllllllllllllllllllllllllllllllllllllllllllllllllllllllllllllllllllllllllllllllllllllllllllllllllllllllllllllllllllllllllllllllllllllllllllllllllllllllllllllllllllllllllllllllllllllllllllllllllllllllllllllllllllllllllllllllllllllllllllllllllllllllllllllllllllllllllllllllllllllllllllllllllllllllllllllllllllllllllllllllllllllllllllllllllllllllllllllllllllllllllllllllllllllllllllllllllllllllllllllllllllllllllllllllllllllllllllllllllllllllllllllllllllllllllllllllllllllllllllllllllllllllllllllllllllllllllllllllllllllllllllllllllllllllllllllllllllllllllllllllllllllllllllllllllllllllllllllllllllllllllllllllllllllllllllllllllllllllllllllllllllllllllllllllllllllllllllllllllllllllllllllllllllllllllllllllllllllllllllllllllllllllllllllllllllllllllllllllllllllllllllllllllllllllllllllllllllllllllllllllllllllllllllllllllllllllllllllllllllllllllllllllllllllllllllllllllllllllllllllllllllllllllllllllllllllllllllllllllllllllllllllllllllllllllllllllllllllllllllllllllllllllllllllllllllllllllllllllllllllllllllllllllllllllllllllllllllllllllllllllllllllllllllllllllllllllllllllllllllllllllllllllllllllllllllllllllllllllllllllllllllllllllllllllllllllllllllllllllllllllllllllllllllllllllllllllllllllllllllllllllllllllllllllllllllllllllllllllllllllllllllllllllllllllllllllllllllllllllllllllllllllllllllllllllllllllllllllllllllllllllllllllllllllllllllllllllllllllllllllllllllllllllllllllllllllllllllllllllllllllllllllllllllllllllllllllllllllllllllllllllllllllllllllllllllllllllllllllllllllllllllllllllllllllllllllllllllllllllllllllllllllllllll}\n",
       " X & prim\\_key & internetlocation & familyincome & birthmonth & birthday & birthyear & cellphone & fr001\\_a & fr001\\_b & ⋯ & csh\\_house\\_no\\_mon\\_t\\_y & csh\\_freq\\_no\\_mon\\_t\\_y & csh\\_total\\_no\\_mon\\_t\\_y & csh\\_month\\_no\\_mon\\_t\\_y & csh\\_amnt\\_no\\_mon\\_t\\_y & de016\\_ho & rating\\_acceptance & rating\\_cost & rating\\_convenience & rating\\_security\\\\\n",
       "\\hline\n",
       "\t 0         & 2011016:1 & 1         &  4        & 12        & 10        & 52        & 1         & 5         & 5         & ⋯         & 100       & 2.000000  & 130       & 200.0000  & 100       &   20      & 2         & 1         & 3         & 4        \\\\\n",
       "\t 1         & 2011018:1 & 1         & 11        & 12        & 24        & 44        & 1         & 5         & 5         & ⋯         &  NA       &       NA  &  NA       &       NA  &  NA       &   NA      & 3         & 1         & 2         & 4        \\\\\n",
       "\t 2         & 2011018:2 & 1         & 10        & 11        & 23        & 38        & 1         & 2         & 1         & ⋯         &   3       & 4.348214  &  37       & 173.9286  &  40       &   NA      & 4         & 4         & 4         & 4        \\\\\n",
       "\t 3         & 2011041:1 & 2         & 14        & 11        & 20        & 45        & 1         & 3         & 2         & ⋯         & 200       & 2.000000  & 260       & 120.0000  &  60       &  400      & 2         & 4         & 3         & 1        \\\\\n",
       "\t 4         & 2011042:1 & 1         & 14        &  4        &  8        & 57        & 1         & 3         & 2         & ⋯         & 250       & 4.348214  & 450       & 869.6429  & 200       &  100      & 1         & 3         & 2         & 4        \\\\\n",
       "\t 5         & 2011045:1 & 2         & 14        &  6        & 27        & 50        & 1         & 3         & 4         & ⋯         &   0       & 2.000000  &  50       & 300.0000  & 150       & 3000      & 1         & 2         & 3         & 4        \\\\\n",
       "\\end{tabular}\n"
      ],
      "text/markdown": [
       "\n",
       "X | prim_key | internetlocation | familyincome | birthmonth | birthday | birthyear | cellphone | fr001_a | fr001_b | ⋯ | csh_house_no_mon_t_y | csh_freq_no_mon_t_y | csh_total_no_mon_t_y | csh_month_no_mon_t_y | csh_amnt_no_mon_t_y | de016_ho | rating_acceptance | rating_cost | rating_convenience | rating_security | \n",
       "|---|---|---|---|---|---|\n",
       "| 0         | 2011016:1 | 1         |  4        | 12        | 10        | 52        | 1         | 5         | 5         | ⋯         | 100       | 2.000000  | 130       | 200.0000  | 100       |   20      | 2         | 1         | 3         | 4         | \n",
       "| 1         | 2011018:1 | 1         | 11        | 12        | 24        | 44        | 1         | 5         | 5         | ⋯         |  NA       |       NA  |  NA       |       NA  |  NA       |   NA      | 3         | 1         | 2         | 4         | \n",
       "| 2         | 2011018:2 | 1         | 10        | 11        | 23        | 38        | 1         | 2         | 1         | ⋯         |   3       | 4.348214  |  37       | 173.9286  |  40       |   NA      | 4         | 4         | 4         | 4         | \n",
       "| 3         | 2011041:1 | 2         | 14        | 11        | 20        | 45        | 1         | 3         | 2         | ⋯         | 200       | 2.000000  | 260       | 120.0000  |  60       |  400      | 2         | 4         | 3         | 1         | \n",
       "| 4         | 2011042:1 | 1         | 14        |  4        |  8        | 57        | 1         | 3         | 2         | ⋯         | 250       | 4.348214  | 450       | 869.6429  | 200       |  100      | 1         | 3         | 2         | 4         | \n",
       "| 5         | 2011045:1 | 2         | 14        |  6        | 27        | 50        | 1         | 3         | 4         | ⋯         |   0       | 2.000000  |  50       | 300.0000  | 150       | 3000      | 1         | 2         | 3         | 4         | \n",
       "\n",
       "\n"
      ],
      "text/plain": [
       "  X prim_key  internetlocation familyincome birthmonth birthday birthyear\n",
       "1 0 2011016:1 1                 4           12         10       52       \n",
       "2 1 2011018:1 1                11           12         24       44       \n",
       "3 2 2011018:2 1                10           11         23       38       \n",
       "4 3 2011041:1 2                14           11         20       45       \n",
       "5 4 2011042:1 1                14            4          8       57       \n",
       "6 5 2011045:1 2                14            6         27       50       \n",
       "  cellphone fr001_a fr001_b ⋯ csh_house_no_mon_t_y csh_freq_no_mon_t_y\n",
       "1 1         5       5       ⋯ 100                  2.000000           \n",
       "2 1         5       5       ⋯  NA                        NA           \n",
       "3 1         2       1       ⋯   3                  4.348214           \n",
       "4 1         3       2       ⋯ 200                  2.000000           \n",
       "5 1         3       2       ⋯ 250                  4.348214           \n",
       "6 1         3       4       ⋯   0                  2.000000           \n",
       "  csh_total_no_mon_t_y csh_month_no_mon_t_y csh_amnt_no_mon_t_y de016_ho\n",
       "1 130                  200.0000             100                   20    \n",
       "2  NA                        NA              NA                   NA    \n",
       "3  37                  173.9286              40                   NA    \n",
       "4 260                  120.0000              60                  400    \n",
       "5 450                  869.6429             200                  100    \n",
       "6  50                  300.0000             150                 3000    \n",
       "  rating_acceptance rating_cost rating_convenience rating_security\n",
       "1 2                 1           3                  4              \n",
       "2 3                 1           2                  4              \n",
       "3 4                 4           4                  4              \n",
       "4 2                 4           3                  1              \n",
       "5 1                 3           2                  4              \n",
       "6 1                 2           3                  4              "
      ]
     },
     "metadata": {},
     "output_type": "display_data"
    }
   ],
   "source": [
    "head(df1)"
   ]
  },
  {
   "cell_type": "code",
   "execution_count": 53,
   "metadata": {
    "collapsed": false
   },
   "outputs": [],
   "source": [
    "fit1w <- glm(mpay ~ cpay + mbank + age + edlevel + income + white, \n",
    "             data = df, family = binomial)"
   ]
  },
  {
   "cell_type": "code",
   "execution_count": 58,
   "metadata": {
    "collapsed": false
   },
   "outputs": [
    {
     "data": {
      "text/plain": [
       "\n",
       "Call:\n",
       "glm(formula = mpay ~ cpay + mbank + age + edlevel + income + \n",
       "    white, family = binomial, data = df)\n",
       "\n",
       "Deviance Residuals: \n",
       "    Min       1Q   Median       3Q      Max  \n",
       "-1.2910  -0.1873  -0.1175  -0.0915   3.2393  \n",
       "\n",
       "Coefficients:\n",
       "            Estimate Std. Error z value Pr(>|z|)    \n",
       "(Intercept) -2.33502    0.85310  -2.737   0.0062 ** \n",
       "cpay         1.71593    0.35811   4.792 1.65e-06 ***\n",
       "mbank        1.75732    0.36218   4.852 1.22e-06 ***\n",
       "age         -0.02489    0.01272  -1.957   0.0503 .  \n",
       "edlevel     -0.31601    0.19148  -1.650   0.0989 .  \n",
       "income      -0.03059    0.11691  -0.262   0.7936    \n",
       "white       -0.41695    0.40541  -1.028   0.3037    \n",
       "---\n",
       "Signif. codes:  0 ‘***’ 0.001 ‘**’ 0.01 ‘*’ 0.05 ‘.’ 0.1 ‘ ’ 1\n",
       "\n",
       "(Dispersion parameter for binomial family taken to be 1)\n",
       "\n",
       "    Null deviance: 386.81  on 1871  degrees of freedom\n",
       "Residual deviance: 308.61  on 1865  degrees of freedom\n",
       "  (301 observations deleted due to missingness)\n",
       "AIC: 322.61\n",
       "\n",
       "Number of Fisher Scoring iterations: 7\n"
      ]
     },
     "metadata": {},
     "output_type": "display_data"
    }
   ],
   "source": [
    "summary(fit1w)"
   ]
  },
  {
   "cell_type": "code",
   "execution_count": 55,
   "metadata": {
    "collapsed": false
   },
   "outputs": [
    {
     "name": "stderr",
     "output_type": "stream",
     "text": [
      "Waiting for profiling to be done...\n"
     ]
    },
    {
     "data": {
      "text/html": [
       "<table>\n",
       "<thead><tr><th></th><th scope=col>2.5 %</th><th scope=col>97.5 %</th></tr></thead>\n",
       "<tbody>\n",
       "\t<tr><th scope=row>(Intercept)</th><td>-4.03728687  </td><td>-0.6863757983</td></tr>\n",
       "\t<tr><th scope=row>cpay</th><td> 1.02993249  </td><td> 2.4454144378</td></tr>\n",
       "\t<tr><th scope=row>mbank</th><td> 1.04052079  </td><td> 2.4679480660</td></tr>\n",
       "\t<tr><th scope=row>age</th><td>-0.05038165  </td><td>-0.0003531266</td></tr>\n",
       "\t<tr><th scope=row>edlevel</th><td>-0.69535854  </td><td> 0.0573746587</td></tr>\n",
       "\t<tr><th scope=row>income</th><td>-0.26589796  </td><td> 0.1942746409</td></tr>\n",
       "\t<tr><th scope=row>white</th><td>-1.18233364  </td><td> 0.4184601578</td></tr>\n",
       "</tbody>\n",
       "</table>\n"
      ],
      "text/latex": [
       "\\begin{tabular}{r|ll}\n",
       "  & 2.5 \\% & 97.5 \\%\\\\\n",
       "\\hline\n",
       "\t(Intercept) & -4.03728687   & -0.6863757983\\\\\n",
       "\tcpay &  1.02993249   &  2.4454144378\\\\\n",
       "\tmbank &  1.04052079   &  2.4679480660\\\\\n",
       "\tage & -0.05038165   & -0.0003531266\\\\\n",
       "\tedlevel & -0.69535854   &  0.0573746587\\\\\n",
       "\tincome & -0.26589796   &  0.1942746409\\\\\n",
       "\twhite & -1.18233364   &  0.4184601578\\\\\n",
       "\\end{tabular}\n"
      ],
      "text/markdown": [
       "\n",
       "| <!--/--> | 2.5 % | 97.5 % | \n",
       "|---|---|---|---|---|---|---|\n",
       "| (Intercept) | -4.03728687   | -0.6863757983 | \n",
       "| cpay |  1.02993249   |  2.4454144378 | \n",
       "| mbank |  1.04052079   |  2.4679480660 | \n",
       "| age | -0.05038165   | -0.0003531266 | \n",
       "| edlevel | -0.69535854   |  0.0573746587 | \n",
       "| income | -0.26589796   |  0.1942746409 | \n",
       "| white | -1.18233364   |  0.4184601578 | \n",
       "\n",
       "\n"
      ],
      "text/plain": [
       "            2.5 %       97.5 %       \n",
       "(Intercept) -4.03728687 -0.6863757983\n",
       "cpay         1.02993249  2.4454144378\n",
       "mbank        1.04052079  2.4679480660\n",
       "age         -0.05038165 -0.0003531266\n",
       "edlevel     -0.69535854  0.0573746587\n",
       "income      -0.26589796  0.1942746409\n",
       "white       -1.18233364  0.4184601578"
      ]
     },
     "metadata": {},
     "output_type": "display_data"
    }
   ],
   "source": [
    "confint(fit1w)"
   ]
  },
  {
   "cell_type": "code",
   "execution_count": 61,
   "metadata": {
    "collapsed": false
   },
   "outputs": [
    {
     "name": "stderr",
     "output_type": "stream",
     "text": [
      "Warning message:\n",
      "“package ‘Zelig’ was built under R version 3.4.1”Loading required package: survival\n"
     ]
    }
   ],
   "source": [
    "library(Zelig)"
   ]
  },
  {
   "cell_type": "code",
   "execution_count": 62,
   "metadata": {
    "collapsed": false
   },
   "outputs": [
    {
     "name": "stdout",
     "output_type": "stream",
     "text": [
      "How to cite this model in Zelig:\n",
      "  Christine Choirat, Christopher Gandrud, James Honaker, Kosuke Imai, Gary King, and Olivia Lau. 2017.\n",
      "  relogit: Rare Events Logistic Regression for Dichotomous Dependent Variables\n",
      "  in Christine Choirat, Christopher Gandrud, James Honaker, Kosuke Imai, Gary King, and Olivia Lau,\n",
      "  \"Zelig: Everyone's Statistical Software,\" http://zeligproject.org/\n"
     ]
    }
   ],
   "source": [
    "fit2 <- zelig(mpay ~ cpay + mbank + age + \n",
    "              edlevel + income + white,\n",
    "              data = df, model = \"relogit\")"
   ]
  },
  {
   "cell_type": "code",
   "execution_count": 65,
   "metadata": {
    "collapsed": false
   },
   "outputs": [
    {
     "name": "stdout",
     "output_type": "stream",
     "text": [
      "Model: \n",
      "\n",
      "Call:\n",
      "z5$zelig(formula = mpay ~ cpay + mbank + age + edlevel + income + \n",
      "    white, data = df)\n",
      "\n",
      "Deviance Residuals: \n",
      "    Min       1Q   Median       3Q      Max  \n",
      "-1.3065  -0.1965  -0.1242  -0.0970   3.2037  \n",
      "\n",
      "Coefficients:\n",
      "            Estimate Std. Error z value Pr(>|z|)\n",
      "(Intercept) -2.27758    0.85310  -2.670  0.00759\n",
      "cpay         1.68315    0.35811   4.700 2.60e-06\n",
      "mbank        1.73840    0.36218   4.800 1.59e-06\n",
      "age         -0.02416    0.01272  -1.900  0.05749\n",
      "edlevel     -0.30849    0.19148  -1.611  0.10717\n",
      "income      -0.02689    0.11691  -0.230  0.81812\n",
      "white       -0.43812    0.40541  -1.081  0.27983\n",
      "\n",
      "(Dispersion parameter for binomial family taken to be 1)\n",
      "\n",
      "    Null deviance: 386.81  on 1871  degrees of freedom\n",
      "Residual deviance: 308.61  on 1865  degrees of freedom\n",
      "  (301 observations deleted due to missingness)\n",
      "AIC: 322.61\n",
      "\n",
      "Number of Fisher Scoring iterations: 7\n",
      "\n",
      "Next step: Use 'setx' method\n"
     ]
    }
   ],
   "source": [
    "summary(fit2)"
   ]
  },
  {
   "cell_type": "code",
   "execution_count": 66,
   "metadata": {
    "collapsed": true
   },
   "outputs": [],
   "source": [
    "fit2x <- setx(fit2)"
   ]
  },
  {
   "cell_type": "code",
   "execution_count": 67,
   "metadata": {
    "collapsed": false
   },
   "outputs": [
    {
     "name": "stdout",
     "output_type": "stream",
     "text": [
      "\n",
      " sim x :\n",
      " -----\n",
      "ev\n",
      "           mean          sd        50%        2.5%      97.5%\n",
      "[1,] 0.01131207 0.002994068 0.01085228 0.006824568 0.01823884\n",
      "pv\n",
      "         0     1\n",
      "[1,] 0.986 0.014\n"
     ]
    }
   ],
   "source": [
    "fit2s <- sim(fit2, x=fit2x)\n",
    "summary(fit2s)"
   ]
  },
  {
   "cell_type": "code",
   "execution_count": 68,
   "metadata": {
    "collapsed": false
   },
   "outputs": [
    {
     "data": {
      "image/png": "[encoded data removed]",
      "text/plain": [
       "Plot with title “Expected Values: E(Y|X)”"
      ]
     },
     "metadata": {},
     "output_type": "display_data"
    }
   ],
   "source": [
    "plot(fit2s)"
   ]
  },
  {
   "cell_type": "code",
   "execution_count": null,
   "metadata": {
    "collapsed": true
   },
   "outputs": [],
   "source": []
  }
 ],
 "metadata": {
  "kernelspec": {
   "display_name": "R",
   "language": "R",
   "name": "ir"
  },
  "language_info": {
   "codemirror_mode": "r",
   "file_extension": ".r",
   "mimetype": "text/x-r-source",
   "name": "R",
   "pygments_lexer": "r",
   "version": "3.4.0"
  }
 },
 "nbformat": 4,
 "nbformat_minor": 2
}
